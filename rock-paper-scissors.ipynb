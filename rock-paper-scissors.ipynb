{
 "cells": [
  {
   "cell_type": "code",
   "execution_count": 12,
   "id": "3035fd03",
   "metadata": {},
   "outputs": [],
   "source": [
    "import random\n",
    "\n",
    "def play():\n",
    "    choices = ['r','p','s']\n",
    "    computer = random.choice(choices)\n",
    "    user = input(\"\"\"Play rock paper scissors again a computer!\n",
    "    Type 'r' for rock, 'p' for paper, and 's' for scissors. Choose wisely!\n",
    "    Your choice: \"\"\" )   \n",
    "    return user, computer\n"
   ]
  },
  {
   "cell_type": "code",
   "execution_count": 13,
   "id": "dc8c9f42",
   "metadata": {},
   "outputs": [
    {
     "name": "stdout",
     "output_type": "stream",
     "text": [
      "Play rock paper scissors again a computer!\n",
      "    Type 'r' for rock, 'p' for paper, and 's' for scissors. Choose wisely!\n",
      "    Your choice: p\n",
      "Computer's choice: r\n",
      "You lost :(\n"
     ]
    }
   ],
   "source": [
    "def result(user, computer):\n",
    "    print(\"Computer's choice: \" + computer)\n",
    "    if (user == 'r' and computer == 's') or (user == 's' and computer == 'p') or (user == 'p' and computer == 'rock'):\n",
    "        return \"You won!\"\n",
    "    return \"You lost :(\"\n",
    "\n",
    "user, computer = play()\n",
    "print(result(user, computer))\n"
   ]
  },
  {
   "cell_type": "code",
   "execution_count": null,
   "id": "4bc05beb",
   "metadata": {},
   "outputs": [],
   "source": []
  }
 ],
 "metadata": {
  "kernelspec": {
   "display_name": "Python 3 (ipykernel)",
   "language": "python",
   "name": "python3"
  },
  "language_info": {
   "codemirror_mode": {
    "name": "ipython",
    "version": 3
   },
   "file_extension": ".py",
   "mimetype": "text/x-python",
   "name": "python",
   "nbconvert_exporter": "python",
   "pygments_lexer": "ipython3",
   "version": "3.10.5"
  }
 },
 "nbformat": 4,
 "nbformat_minor": 5
}
